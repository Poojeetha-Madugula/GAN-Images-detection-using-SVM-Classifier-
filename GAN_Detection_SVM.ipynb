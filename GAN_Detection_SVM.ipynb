{
 "cells": [
  {
   "cell_type": "code",
   "execution_count": 1,
   "id": "df6e9588",
   "metadata": {},
   "outputs": [],
   "source": [
    "# Importing all the necessary libraries to the jupiter notebook\n",
    "\n",
    "import numpy as np\n",
    "import pandas as pd\n",
    "import cv2\n",
    "import os\n",
    "from sklearn import svm\n",
    "from sklearn.metrics import accuracy_score, f1_score, recall_score"
   ]
  },
  {
   "cell_type": "code",
   "execution_count": 2,
   "id": "d299e091",
   "metadata": {},
   "outputs": [],
   "source": [
    "# setting the directory\n",
    "\n",
    "cwd = os.getcwd()\n",
    "\n",
    "# defining the folder paths\n",
    "\n",
    "folder_path1 = \"/Users/user/Desktop/Machine Learning/Assignment2/real_vs_fake/real-vs-fake/train/real\"\n",
    "folder_path2 = \"/Users/user/Desktop/Machine Learning/Assignment2/real_vs_fake/real-vs-fake/train/fake\"\n",
    "folder_path3 = \"/Users/user/Desktop/Machine Learning/Assignment2/real_vs_fake/real-vs-fake/test/real\"\n",
    "folder_path4 = \"/Users/user/Desktop/Machine Learning/Assignment2/real_vs_fake/real-vs-fake/test/fake\""
   ]
  },
  {
   "cell_type": "code",
   "execution_count": 3,
   "id": "873c7634",
   "metadata": {},
   "outputs": [],
   "source": [
    "# Creating the vacant arrays for training dataset\n",
    "\n",
    "train_live = []\n",
    "train_fake = []"
   ]
  },
  {
   "cell_type": "code",
   "execution_count": 4,
   "id": "f7838634",
   "metadata": {},
   "outputs": [],
   "source": [
    "count = 0\n",
    "\n",
    "# Selecting all the files in the folder using \"for loop\"\n",
    "for filename in os.listdir(folder_path1):\n",
    "    \n",
    "    # Checking if the file is an image or not \n",
    "    if filename.endswith(\".jpg\") or filename.endswith(\".png\"):\n",
    "        # Reading the image file using \"OpenCV\"\n",
    "        image = cv2.imread(os.path.join(folder_path1, filename))\n",
    "        image = cv2.resize(image, (30, 30))\n",
    "        image = cv2.cvtColor(image, cv2.COLOR_BGR2GRAY)\n",
    "        image = image.flatten()\n",
    "        train_live.append(image)\n",
    "        count += 1\n",
    "        if count == 75:  # Selecting only 75 real images for our training dataset\n",
    "            break"
   ]
  },
  {
   "cell_type": "code",
   "execution_count": 5,
   "id": "7dc6e1d1",
   "metadata": {},
   "outputs": [],
   "source": [
    "count = 0\n",
    "\n",
    "# Selecting all the files in the folder using \"for loop\"\n",
    "for filename in os.listdir(folder_path2):\n",
    "    \n",
    "    # Checking if the file is an image or not\n",
    "    if filename.endswith(\".jpg\") or filename.endswith(\".png\"):\n",
    "        # Reading the image file using \"OpenCV\"\n",
    "        image = cv2.imread(os.path.join(folder_path2, filename))\n",
    "        image = cv2.resize(image, (30, 30))\n",
    "        image = cv2.cvtColor(image, cv2.COLOR_BGR2GRAY)\n",
    "        image = image.flatten()\n",
    "        train_fake.append(image)\n",
    "        count += 1\n",
    "        if count == 75:   # Selecting only 75 fake images for our training dataset\n",
    "            break"
   ]
  },
  {
   "cell_type": "code",
   "execution_count": 6,
   "id": "16f11a9a",
   "metadata": {},
   "outputs": [],
   "source": [
    "# Spliting the training dataset into x_train and y_train\n",
    "\n",
    "X_train = np.concatenate((train_live, train_fake))\n",
    "y_train = np.concatenate((np.ones(len(train_live)), np.zeros(len(train_fake))))\n",
    "\n",
    "# Creating the vacant arrays for test dataset\n",
    "\n",
    "test_live = []\n",
    "test_fake = []\n"
   ]
  },
  {
   "cell_type": "code",
   "execution_count": 7,
   "id": "57ee122d",
   "metadata": {},
   "outputs": [],
   "source": [
    "count = 0\n",
    "\n",
    "# Selecting all the files in the folder using \"for loop\"\n",
    "for filename in os.listdir(folder_path3):\n",
    "    \n",
    "    # Checking if the file is an image or not\n",
    "    if filename.endswith(\".jpg\") or filename.endswith(\".png\"):\n",
    "        # Reading the image file using \"OpenCV\"\n",
    "        image = cv2.imread(os.path.join(folder_path3, filename))\n",
    "        image = cv2.resize(image, (30, 30))\n",
    "        image = cv2.cvtColor(image, cv2.COLOR_BGR2GRAY)\n",
    "        image = image.flatten()\n",
    "        test_live.append(image)\n",
    "        count += 1\n",
    "        if count == 75:   # Selecting only 75 real images for our test dataset\n",
    "            break"
   ]
  },
  {
   "cell_type": "code",
   "execution_count": 8,
   "id": "433830c0",
   "metadata": {},
   "outputs": [],
   "source": [
    "count = 0   \n",
    "\n",
    "# Selecting all the files in the folder using \"for loop\"\n",
    "for filename in os.listdir(folder_path4):\n",
    "    \n",
    "    # Checking if the file is an image or not\n",
    "    if filename.endswith(\".jpg\") or filename.endswith(\".png\"):\n",
    "        # Reading the image file using \"OpenCV\"\n",
    "        image = cv2.imread(os.path.join(folder_path4, filename))\n",
    "        image = cv2.resize(image, (30, 30))\n",
    "        image = cv2.cvtColor(image, cv2.COLOR_BGR2GRAY)\n",
    "        image = image.flatten()\n",
    "        test_fake.append(image)\n",
    "        count += 1\n",
    "        if count == 75:    # Selecting only 75 fake images for our test dataset\n",
    "            break"
   ]
  },
  {
   "cell_type": "code",
   "execution_count": 9,
   "id": "0f937dfe",
   "metadata": {
    "scrolled": true
   },
   "outputs": [
    {
     "name": "stdout",
     "output_type": "stream",
     "text": [
      "Accuracy: 0.6266666666666667\n",
      "F1-score: 0.582089552238806\n",
      "Recall of the two class SVM Classifier: 0.52\n"
     ]
    }
   ],
   "source": [
    "\n",
    "# Spliting the test dataset into x_test and y_test\n",
    "X_test = np.concatenate((test_live, test_fake))\n",
    "y_test = np.concatenate((np.ones(len(test_live)), np.zeros(len(test_fake))))\n",
    "\n",
    "# Training the model using two class SVM classifier\n",
    "clf = svm.SVC(kernel='linear')\n",
    "clf.fit(X_train, y_train)\n",
    "\n",
    "# Making the predictions on test dataset\n",
    "y_pred = clf.predict(X_test)\n",
    "\n",
    "# Calculating the Accuracy, F1-score, and recall of the two class SVM classifier\n",
    "accuracy = accuracy_score(y_test, y_pred)\n",
    "f1 = f1_score(y_test, y_pred)\n",
    "recall = recall_score(y_test, y_pred)\n",
    "\n",
    "# Printing the results of the model\n",
    "print(\"Accuracy:\", accuracy)\n",
    "print(\"F1-score:\", f1)\n",
    "print(\"Recall of the two class SVM Classifier:\", recall)"
   ]
  },
  {
   "cell_type": "code",
   "execution_count": 10,
   "id": "9cf23c42",
   "metadata": {},
   "outputs": [],
   "source": [
    "# Importing the required libraries to perform bagged Version of SVM \n",
    "\n",
    "from sklearn.ensemble import BaggingClassifier\n",
    "\n",
    "# Defining the base SVM classifier\n",
    "base_clf = svm.SVC(kernel='linear')\n",
    "\n",
    "# Defining the Bagged SVM classifier\n",
    "bag_clf = BaggingClassifier(base_estimator=base_clf, n_estimators=10, random_state=42)\n",
    "\n",
    "# Fiting the Bagged SVM classifier on the training dataset\n",
    "bag_clf.fit(X_train, y_train)\n",
    "\n",
    "# Making the predictions on test dataset\n",
    "y_pred = bag_clf.predict(X_test)\n",
    "\n",
    "# Calculating the Accuracy, F1-score, and recall of the bagged SVM classifier\n",
    "accuracy_bagged = accuracy_score(y_test, y_pred)\n",
    "f1_bagged = f1_score(y_test, y_pred)\n",
    "recall_bagged = recall_score(y_test, y_pred)\n"
   ]
  },
  {
   "cell_type": "code",
   "execution_count": 11,
   "id": "cd5c838d",
   "metadata": {},
   "outputs": [
    {
     "name": "stdout",
     "output_type": "stream",
     "text": [
      "Accuracy: 0.6333333333333333\n",
      "F1-score: 0.5736434108527132\n",
      "Recall of the bagged version of SVM Classifier: 0.49333333333333335\n"
     ]
    }
   ],
   "source": [
    "# Printing the results of the model\n",
    "print(\"Accuracy:\", accuracy_bagged)\n",
    "print(\"F1-score:\", f1_bagged)\n",
    "print(\"Recall of the bagged version of SVM Classifier:\", recall_bagged)"
   ]
  },
  {
   "cell_type": "code",
   "execution_count": null,
   "id": "52c5a202",
   "metadata": {},
   "outputs": [],
   "source": []
  }
 ],
 "metadata": {
  "kernelspec": {
   "display_name": "Python 3 (ipykernel)",
   "language": "python",
   "name": "python3"
  },
  "language_info": {
   "codemirror_mode": {
    "name": "ipython",
    "version": 3
   },
   "file_extension": ".py",
   "mimetype": "text/x-python",
   "name": "python",
   "nbconvert_exporter": "python",
   "pygments_lexer": "ipython3",
   "version": "3.9.12"
  }
 },
 "nbformat": 4,
 "nbformat_minor": 5
}
